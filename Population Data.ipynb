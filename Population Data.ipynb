{
    "cells": [
        {
            "cell_type": "code",
            "execution_count": 3,
            "metadata": {
                "scrolled": true
            },
            "outputs": [
                {
                    "data": {
                        "text/html": "<div>\n<style scoped>\n    .dataframe tbody tr th:only-of-type {\n        vertical-align: middle;\n    }\n\n    .dataframe tbody tr th {\n        vertical-align: top;\n    }\n\n    .dataframe thead th {\n        text-align: right;\n    }\n</style>\n<table border=\"1\" class=\"dataframe\">\n  <thead>\n    <tr style=\"text-align: right;\">\n      <th></th>\n      <th>Region/Country/Area</th>\n      <th>Unnamed: 1</th>\n      <th>Year</th>\n      <th>Series</th>\n      <th>Value</th>\n      <th>Footnotes</th>\n      <th>Source</th>\n    </tr>\n  </thead>\n  <tbody>\n    <tr>\n      <th>0</th>\n      <td>1</td>\n      <td>Total, all countries or areas</td>\n      <td>2005</td>\n      <td>Population annual rate of increase (percent)</td>\n      <td>1.2570</td>\n      <td>Data refers to a 5-year period preceding the r...</td>\n      <td>United Nations Population Division, New York, ...</td>\n    </tr>\n    <tr>\n      <th>1</th>\n      <td>1</td>\n      <td>Total, all countries or areas</td>\n      <td>2005</td>\n      <td>Total fertility rate (children per women)</td>\n      <td>2.6513</td>\n      <td>Data refers to a 5-year period preceding the r...</td>\n      <td>United Nations Population Division, New York, ...</td>\n    </tr>\n    <tr>\n      <th>2</th>\n      <td>1</td>\n      <td>Total, all countries or areas</td>\n      <td>2005</td>\n      <td>Infant mortality for both sexes (per 1,000 liv...</td>\n      <td>49.2161</td>\n      <td>Data refers to a 5-year period preceding the r...</td>\n      <td>United Nations Statistics Division, New York, ...</td>\n    </tr>\n    <tr>\n      <th>3</th>\n      <td>1</td>\n      <td>Total, all countries or areas</td>\n      <td>2005</td>\n      <td>Maternal mortality ratio (deaths per 100,000 p...</td>\n      <td>288.0000</td>\n      <td>NaN</td>\n      <td>World Health Organization (WHO), the United Na...</td>\n    </tr>\n    <tr>\n      <th>4</th>\n      <td>1</td>\n      <td>Total, all countries or areas</td>\n      <td>2005</td>\n      <td>Life expectancy at birth for both sexes (years)</td>\n      <td>67.0455</td>\n      <td>Data refers to a 5-year period preceding the r...</td>\n      <td>United Nations Population Division, New York, ...</td>\n    </tr>\n  </tbody>\n</table>\n</div>",
                        "text/plain": "   Region/Country/Area                     Unnamed: 1  Year  \\\n0                    1  Total, all countries or areas  2005   \n1                    1  Total, all countries or areas  2005   \n2                    1  Total, all countries or areas  2005   \n3                    1  Total, all countries or areas  2005   \n4                    1  Total, all countries or areas  2005   \n\n                                              Series     Value  \\\n0       Population annual rate of increase (percent)    1.2570   \n1          Total fertility rate (children per women)    2.6513   \n2  Infant mortality for both sexes (per 1,000 liv...   49.2161   \n3  Maternal mortality ratio (deaths per 100,000 p...  288.0000   \n4    Life expectancy at birth for both sexes (years)   67.0455   \n\n                                           Footnotes  \\\n0  Data refers to a 5-year period preceding the r...   \n1  Data refers to a 5-year period preceding the r...   \n2  Data refers to a 5-year period preceding the r...   \n3                                                NaN   \n4  Data refers to a 5-year period preceding the r...   \n\n                                              Source  \n0  United Nations Population Division, New York, ...  \n1  United Nations Population Division, New York, ...  \n2  United Nations Statistics Division, New York, ...  \n3  World Health Organization (WHO), the United Na...  \n4  United Nations Population Division, New York, ...  "
                    },
                    "execution_count": 3,
                    "metadata": {},
                    "output_type": "execute_result"
                }
            ],
            "source": "# The code was removed by Watson Studio for sharing."
        },
        {
            "cell_type": "code",
            "execution_count": 11,
            "metadata": {},
            "outputs": [
                {
                    "data": {
                        "text/html": "<div>\n<style scoped>\n    .dataframe tbody tr th:only-of-type {\n        vertical-align: middle;\n    }\n\n    .dataframe tbody tr th {\n        vertical-align: top;\n    }\n\n    .dataframe thead th {\n        text-align: right;\n    }\n</style>\n<table border=\"1\" class=\"dataframe\">\n  <thead>\n    <tr style=\"text-align: right;\">\n      <th></th>\n      <th>location_id</th>\n      <th>location</th>\n      <th>year</th>\n      <th>series</th>\n      <th>value</th>\n      <th>Footnotes</th>\n      <th>Source</th>\n    </tr>\n  </thead>\n  <tbody>\n    <tr>\n      <th>0</th>\n      <td>1</td>\n      <td>Total, all countries or areas</td>\n      <td>2005</td>\n      <td>Population annual rate of increase (percent)</td>\n      <td>1.2570</td>\n      <td>Data refers to a 5-year period preceding the r...</td>\n      <td>United Nations Population Division, New York, ...</td>\n    </tr>\n    <tr>\n      <th>1</th>\n      <td>1</td>\n      <td>Total, all countries or areas</td>\n      <td>2005</td>\n      <td>Total fertility rate (children per women)</td>\n      <td>2.6513</td>\n      <td>Data refers to a 5-year period preceding the r...</td>\n      <td>United Nations Population Division, New York, ...</td>\n    </tr>\n    <tr>\n      <th>2</th>\n      <td>1</td>\n      <td>Total, all countries or areas</td>\n      <td>2005</td>\n      <td>Infant mortality for both sexes (per 1,000 liv...</td>\n      <td>49.2161</td>\n      <td>Data refers to a 5-year period preceding the r...</td>\n      <td>United Nations Statistics Division, New York, ...</td>\n    </tr>\n    <tr>\n      <th>3</th>\n      <td>1</td>\n      <td>Total, all countries or areas</td>\n      <td>2005</td>\n      <td>Maternal mortality ratio (deaths per 100,000 p...</td>\n      <td>288.0000</td>\n      <td>NaN</td>\n      <td>World Health Organization (WHO), the United Na...</td>\n    </tr>\n    <tr>\n      <th>4</th>\n      <td>1</td>\n      <td>Total, all countries or areas</td>\n      <td>2005</td>\n      <td>Life expectancy at birth for both sexes (years)</td>\n      <td>67.0455</td>\n      <td>Data refers to a 5-year period preceding the r...</td>\n      <td>United Nations Population Division, New York, ...</td>\n    </tr>\n  </tbody>\n</table>\n</div>",
                        "text/plain": "   location_id                       location  year  \\\n0            1  Total, all countries or areas  2005   \n1            1  Total, all countries or areas  2005   \n2            1  Total, all countries or areas  2005   \n3            1  Total, all countries or areas  2005   \n4            1  Total, all countries or areas  2005   \n\n                                              series     value  \\\n0       Population annual rate of increase (percent)    1.2570   \n1          Total fertility rate (children per women)    2.6513   \n2  Infant mortality for both sexes (per 1,000 liv...   49.2161   \n3  Maternal mortality ratio (deaths per 100,000 p...  288.0000   \n4    Life expectancy at birth for both sexes (years)   67.0455   \n\n                                           Footnotes  \\\n0  Data refers to a 5-year period preceding the r...   \n1  Data refers to a 5-year period preceding the r...   \n2  Data refers to a 5-year period preceding the r...   \n3                                                NaN   \n4  Data refers to a 5-year period preceding the r...   \n\n                                              Source  \n0  United Nations Population Division, New York, ...  \n1  United Nations Population Division, New York, ...  \n2  United Nations Statistics Division, New York, ...  \n3  World Health Organization (WHO), the United Na...  \n4  United Nations Population Division, New York, ...  "
                    },
                    "execution_count": 11,
                    "metadata": {},
                    "output_type": "execute_result"
                }
            ],
            "source": "data.rename(columns={'Region/Country/Area': 'location_id', 'Unnamed: 1': 'location', 'Year': 'year', 'Series': 'series', 'Value': 'value'}, inplace=True)\ndata.head()"
        },
        {
            "cell_type": "code",
            "execution_count": 12,
            "metadata": {},
            "outputs": [
                {
                    "data": {
                        "text/html": "<div>\n<style scoped>\n    .dataframe tbody tr th:only-of-type {\n        vertical-align: middle;\n    }\n\n    .dataframe tbody tr th {\n        vertical-align: top;\n    }\n\n    .dataframe thead th {\n        text-align: right;\n    }\n</style>\n<table border=\"1\" class=\"dataframe\">\n  <thead>\n    <tr style=\"text-align: right;\">\n      <th></th>\n      <th>location</th>\n      <th>location_id</th>\n      <th>year</th>\n      <th>series</th>\n      <th>value</th>\n    </tr>\n  </thead>\n  <tbody>\n    <tr>\n      <th>3324</th>\n      <td>Netherlands</td>\n      <td>528</td>\n      <td>2005</td>\n      <td>Maternal mortality ratio (deaths per 100,000 p...</td>\n      <td>11.0897</td>\n    </tr>\n    <tr>\n      <th>2305</th>\n      <td>Guyana</td>\n      <td>328</td>\n      <td>2010</td>\n      <td>Total fertility rate (children per women)</td>\n      <td>2.7260</td>\n    </tr>\n    <tr>\n      <th>94</th>\n      <td>Eastern Africa</td>\n      <td>14</td>\n      <td>2015</td>\n      <td>Total fertility rate (children per women)</td>\n      <td>4.9045</td>\n    </tr>\n    <tr>\n      <th>4483</th>\n      <td>Timor-Leste</td>\n      <td>626</td>\n      <td>2010</td>\n      <td>Infant mortality for both sexes (per 1,000 liv...</td>\n      <td>53.2660</td>\n    </tr>\n    <tr>\n      <th>1290</th>\n      <td>Central African Republic</td>\n      <td>140</td>\n      <td>2010</td>\n      <td>Population annual rate of increase (percent)</td>\n      <td>1.6550</td>\n    </tr>\n    <tr>\n      <th>1022</th>\n      <td>Bolivia (Plurin. State of)</td>\n      <td>68</td>\n      <td>2005</td>\n      <td>Life expectancy at birth for females (years)</td>\n      <td>66.0200</td>\n    </tr>\n    <tr>\n      <th>2829</th>\n      <td>Libya</td>\n      <td>434</td>\n      <td>2005</td>\n      <td>Total fertility rate (children per women)</td>\n      <td>2.6400</td>\n    </tr>\n    <tr>\n      <th>4700</th>\n      <td>United Arab Emirates</td>\n      <td>784</td>\n      <td>2015</td>\n      <td>Population annual rate of increase (percent)</td>\n      <td>1.6020</td>\n    </tr>\n    <tr>\n      <th>1954</th>\n      <td>Finland</td>\n      <td>246</td>\n      <td>2005</td>\n      <td>Population annual rate of increase (percent)</td>\n      <td>0.2720</td>\n    </tr>\n    <tr>\n      <th>2061</th>\n      <td>Gambia</td>\n      <td>270</td>\n      <td>2010</td>\n      <td>Total fertility rate (children per women)</td>\n      <td>5.6500</td>\n    </tr>\n    <tr>\n      <th>2464</th>\n      <td>Iran (Islamic Republic of)</td>\n      <td>364</td>\n      <td>2015</td>\n      <td>Maternal mortality ratio (deaths per 100,000 p...</td>\n      <td>25.1680</td>\n    </tr>\n    <tr>\n      <th>3855</th>\n      <td>Russian Federation</td>\n      <td>643</td>\n      <td>2015</td>\n      <td>Life expectancy at birth for males (years)</td>\n      <td>64.5500</td>\n    </tr>\n    <tr>\n      <th>2169</th>\n      <td>Greenland</td>\n      <td>304</td>\n      <td>2014</td>\n      <td>Total fertility rate (children per women)</td>\n      <td>1.9950</td>\n    </tr>\n    <tr>\n      <th>3733</th>\n      <td>Puerto Rico</td>\n      <td>630</td>\n      <td>2015</td>\n      <td>Life expectancy at birth for females (years)</td>\n      <td>82.7000</td>\n    </tr>\n    <tr>\n      <th>956</th>\n      <td>Belize</td>\n      <td>84</td>\n      <td>2015</td>\n      <td>Maternal mortality ratio (deaths per 100,000 p...</td>\n      <td>27.7005</td>\n    </tr>\n    <tr>\n      <th>4426</th>\n      <td>Tajikistan</td>\n      <td>762</td>\n      <td>2015</td>\n      <td>Total fertility rate (children per women)</td>\n      <td>3.6075</td>\n    </tr>\n    <tr>\n      <th>65</th>\n      <td>Sub-Saharan Africa</td>\n      <td>202</td>\n      <td>2005</td>\n      <td>Life expectancy at birth for males (years)</td>\n      <td>49.0504</td>\n    </tr>\n    <tr>\n      <th>811</th>\n      <td>Azerbaijan</td>\n      <td>31</td>\n      <td>2015</td>\n      <td>Life expectancy at birth for males (years)</td>\n      <td>68.5800</td>\n    </tr>\n    <tr>\n      <th>3571</th>\n      <td>Panama</td>\n      <td>591</td>\n      <td>2005</td>\n      <td>Life expectancy at birth for males (years)</td>\n      <td>73.0100</td>\n    </tr>\n    <tr>\n      <th>2625</th>\n      <td>Kazakhstan</td>\n      <td>398</td>\n      <td>2010</td>\n      <td>Population annual rate of increase (percent)</td>\n      <td>1.0740</td>\n    </tr>\n  </tbody>\n</table>\n</div>",
                        "text/plain": "                        location  location_id  year  \\\n3324                 Netherlands          528  2005   \n2305                      Guyana          328  2010   \n94                Eastern Africa           14  2015   \n4483                 Timor-Leste          626  2010   \n1290    Central African Republic          140  2010   \n1022  Bolivia (Plurin. State of)           68  2005   \n2829                       Libya          434  2005   \n4700        United Arab Emirates          784  2015   \n1954                     Finland          246  2005   \n2061                      Gambia          270  2010   \n2464  Iran (Islamic Republic of)          364  2015   \n3855          Russian Federation          643  2015   \n2169                   Greenland          304  2014   \n3733                 Puerto Rico          630  2015   \n956                       Belize           84  2015   \n4426                  Tajikistan          762  2015   \n65            Sub-Saharan Africa          202  2005   \n811                   Azerbaijan           31  2015   \n3571                      Panama          591  2005   \n2625                  Kazakhstan          398  2010   \n\n                                                 series    value  \n3324  Maternal mortality ratio (deaths per 100,000 p...  11.0897  \n2305          Total fertility rate (children per women)   2.7260  \n94            Total fertility rate (children per women)   4.9045  \n4483  Infant mortality for both sexes (per 1,000 liv...  53.2660  \n1290       Population annual rate of increase (percent)   1.6550  \n1022       Life expectancy at birth for females (years)  66.0200  \n2829          Total fertility rate (children per women)   2.6400  \n4700       Population annual rate of increase (percent)   1.6020  \n1954       Population annual rate of increase (percent)   0.2720  \n2061          Total fertility rate (children per women)   5.6500  \n2464  Maternal mortality ratio (deaths per 100,000 p...  25.1680  \n3855         Life expectancy at birth for males (years)  64.5500  \n2169          Total fertility rate (children per women)   1.9950  \n3733       Life expectancy at birth for females (years)  82.7000  \n956   Maternal mortality ratio (deaths per 100,000 p...  27.7005  \n4426          Total fertility rate (children per women)   3.6075  \n65           Life expectancy at birth for males (years)  49.0504  \n811          Life expectancy at birth for males (years)  68.5800  \n3571         Life expectancy at birth for males (years)  73.0100  \n2625       Population annual rate of increase (percent)   1.0740  "
                    },
                    "execution_count": 12,
                    "metadata": {},
                    "output_type": "execute_result"
                }
            ],
            "source": "df = pd.DataFrame(data, columns= ['location', 'location_id', 'year', 'series', 'value'])\ndf.sample(20)"
        },
        {
            "cell_type": "code",
            "execution_count": 13,
            "metadata": {},
            "outputs": [
                {
                    "data": {
                        "text/plain": "(4984, 5)"
                    },
                    "execution_count": 13,
                    "metadata": {},
                    "output_type": "execute_result"
                }
            ],
            "source": "df.shape"
        },
        {
            "cell_type": "markdown",
            "metadata": {},
            "source": "My goal here is to only gather data points from 2015"
        },
        {
            "cell_type": "code",
            "execution_count": 21,
            "metadata": {},
            "outputs": [
                {
                    "data": {
                        "text/html": "<div>\n<style scoped>\n    .dataframe tbody tr th:only-of-type {\n        vertical-align: middle;\n    }\n\n    .dataframe tbody tr th {\n        vertical-align: top;\n    }\n\n    .dataframe thead th {\n        text-align: right;\n    }\n</style>\n<table border=\"1\" class=\"dataframe\">\n  <thead>\n    <tr style=\"text-align: right;\">\n      <th></th>\n      <th>location</th>\n      <th>location_id</th>\n      <th>year</th>\n      <th>series</th>\n      <th>value</th>\n    </tr>\n  </thead>\n  <tbody>\n    <tr>\n      <th>3106</th>\n      <td>Mayotte</td>\n      <td>175</td>\n      <td>2015</td>\n      <td>Total fertility rate (children per women)</td>\n      <td>4.1000</td>\n    </tr>\n    <tr>\n      <th>2762</th>\n      <td>Latvia</td>\n      <td>428</td>\n      <td>2015</td>\n      <td>Life expectancy at birth for both sexes (years)</td>\n      <td>74.1330</td>\n    </tr>\n    <tr>\n      <th>1637</th>\n      <td>Czechia</td>\n      <td>203</td>\n      <td>2015</td>\n      <td>Life expectancy at birth for both sexes (years)</td>\n      <td>78.1610</td>\n    </tr>\n    <tr>\n      <th>301</th>\n      <td>Eastern Asia</td>\n      <td>30</td>\n      <td>2015</td>\n      <td>Life expectancy at birth for males (years)</td>\n      <td>73.9437</td>\n    </tr>\n    <tr>\n      <th>4763</th>\n      <td>United States of America</td>\n      <td>840</td>\n      <td>2015</td>\n      <td>Population annual rate of increase (percent)</td>\n      <td>0.7540</td>\n    </tr>\n  </tbody>\n</table>\n</div>",
                        "text/plain": "                      location  location_id  year  \\\n3106                   Mayotte          175  2015   \n2762                    Latvia          428  2015   \n1637                   Czechia          203  2015   \n301               Eastern Asia           30  2015   \n4763  United States of America          840  2015   \n\n                                               series    value  \n3106        Total fertility rate (children per women)   4.1000  \n2762  Life expectancy at birth for both sexes (years)  74.1330  \n1637  Life expectancy at birth for both sexes (years)  78.1610  \n301        Life expectancy at birth for males (years)  73.9437  \n4763     Population annual rate of increase (percent)   0.7540  "
                    },
                    "execution_count": 21,
                    "metadata": {},
                    "output_type": "execute_result"
                }
            ],
            "source": "df_2015 = df[df.year == 2015]\ndf_2015.sample(5)"
        },
        {
            "cell_type": "code",
            "execution_count": 22,
            "metadata": {},
            "outputs": [
                {
                    "data": {
                        "text/plain": "(1622, 5)"
                    },
                    "execution_count": 22,
                    "metadata": {},
                    "output_type": "execute_result"
                }
            ],
            "source": "df_2015.shape"
        },
        {
            "cell_type": "markdown",
            "metadata": {},
            "source": "Now my goal is to see the differences between countries life expectancy at birth for both sexes (years)"
        },
        {
            "cell_type": "code",
            "execution_count": 23,
            "metadata": {},
            "outputs": [
                {
                    "name": "stderr",
                    "output_type": "stream",
                    "text": "/opt/conda/envs/Python36/lib/python3.6/site-packages/ipykernel/__main__.py:1: UserWarning: Boolean Series key will be reindexed to match DataFrame index.\n  if __name__ == '__main__':\n"
                }
            ],
            "source": "df_2015_life = df_2015[df.series == \"Life expectancy at birth for both sexes (years)\"]"
        },
        {
            "cell_type": "code",
            "execution_count": 28,
            "metadata": {},
            "outputs": [
                {
                    "data": {
                        "text/html": "<div>\n<style scoped>\n    .dataframe tbody tr th:only-of-type {\n        vertical-align: middle;\n    }\n\n    .dataframe tbody tr th {\n        vertical-align: top;\n    }\n\n    .dataframe thead th {\n        text-align: right;\n    }\n</style>\n<table border=\"1\" class=\"dataframe\">\n  <thead>\n    <tr style=\"text-align: right;\">\n      <th></th>\n      <th>location</th>\n      <th>location_id</th>\n      <th>year</th>\n      <th>series</th>\n      <th>value</th>\n    </tr>\n  </thead>\n  <tbody>\n    <tr>\n      <th>18</th>\n      <td>Total, all countries or areas</td>\n      <td>1</td>\n      <td>2015</td>\n      <td>Life expectancy at birth for both sexes (years)</td>\n      <td>70.8763</td>\n    </tr>\n    <tr>\n      <th>36</th>\n      <td>Africa</td>\n      <td>2</td>\n      <td>2015</td>\n      <td>Life expectancy at birth for both sexes (years)</td>\n      <td>60.2471</td>\n    </tr>\n    <tr>\n      <th>57</th>\n      <td>Northern Africa</td>\n      <td>15</td>\n      <td>2015</td>\n      <td>Life expectancy at birth for both sexes (years)</td>\n      <td>71.1723</td>\n    </tr>\n    <tr>\n      <th>78</th>\n      <td>Sub-Saharan Africa</td>\n      <td>202</td>\n      <td>2015</td>\n      <td>Life expectancy at birth for both sexes (years)</td>\n      <td>57.8460</td>\n    </tr>\n    <tr>\n      <th>96</th>\n      <td>Eastern Africa</td>\n      <td>14</td>\n      <td>2015</td>\n      <td>Life expectancy at birth for both sexes (years)</td>\n      <td>60.9734</td>\n    </tr>\n  </tbody>\n</table>\n</div>",
                        "text/plain": "                         location  location_id  year  \\\n18  Total, all countries or areas            1  2015   \n36                         Africa            2  2015   \n57                Northern Africa           15  2015   \n78             Sub-Saharan Africa          202  2015   \n96                 Eastern Africa           14  2015   \n\n                                             series    value  \n18  Life expectancy at birth for both sexes (years)  70.8763  \n36  Life expectancy at birth for both sexes (years)  60.2471  \n57  Life expectancy at birth for both sexes (years)  71.1723  \n78  Life expectancy at birth for both sexes (years)  57.8460  \n96  Life expectancy at birth for both sexes (years)  60.9734  "
                    },
                    "execution_count": 28,
                    "metadata": {},
                    "output_type": "execute_result"
                }
            ],
            "source": "df_2015_life.head(5)"
        },
        {
            "cell_type": "code",
            "execution_count": 27,
            "metadata": {},
            "outputs": [
                {
                    "data": {
                        "text/plain": "(232, 5)"
                    },
                    "execution_count": 27,
                    "metadata": {},
                    "output_type": "execute_result"
                }
            ],
            "source": "df_2015_life.shape"
        },
        {
            "cell_type": "code",
            "execution_count": 29,
            "metadata": {},
            "outputs": [
                {
                    "data": {
                        "text/html": "<div>\n<style scoped>\n    .dataframe tbody tr th:only-of-type {\n        vertical-align: middle;\n    }\n\n    .dataframe tbody tr th {\n        vertical-align: top;\n    }\n\n    .dataframe thead th {\n        text-align: right;\n    }\n</style>\n<table border=\"1\" class=\"dataframe\">\n  <thead>\n    <tr style=\"text-align: right;\">\n      <th></th>\n      <th>location</th>\n      <th>location_id</th>\n      <th>year</th>\n      <th>series</th>\n      <th>value</th>\n    </tr>\n  </thead>\n  <tbody>\n    <tr>\n      <th>1790</th>\n      <td>Egypt</td>\n      <td>818</td>\n      <td>2015</td>\n      <td>Life expectancy at birth for both sexes (years)</td>\n      <td>70.8340</td>\n    </tr>\n    <tr>\n      <th>2720</th>\n      <td>Kyrgyzstan</td>\n      <td>417</td>\n      <td>2015</td>\n      <td>Life expectancy at birth for both sexes (years)</td>\n      <td>70.2720</td>\n    </tr>\n    <tr>\n      <th>4869</th>\n      <td>Venezuela (Boliv. Rep. of)</td>\n      <td>862</td>\n      <td>2015</td>\n      <td>Life expectancy at birth for both sexes (years)</td>\n      <td>73.0690</td>\n    </tr>\n    <tr>\n      <th>831</th>\n      <td>Bahamas</td>\n      <td>44</td>\n      <td>2015</td>\n      <td>Life expectancy at birth for both sexes (years)</td>\n      <td>72.4660</td>\n    </tr>\n    <tr>\n      <th>624</th>\n      <td>Algeria</td>\n      <td>12</td>\n      <td>2015</td>\n      <td>Life expectancy at birth for both sexes (years)</td>\n      <td>75.5130</td>\n    </tr>\n    <tr>\n      <th>507</th>\n      <td>Australia and New Zealand</td>\n      <td>53</td>\n      <td>2015</td>\n      <td>Life expectancy at birth for both sexes (years)</td>\n      <td>82.1891</td>\n    </tr>\n    <tr>\n      <th>915</th>\n      <td>Belarus</td>\n      <td>112</td>\n      <td>2015</td>\n      <td>Life expectancy at birth for both sexes (years)</td>\n      <td>72.4460</td>\n    </tr>\n    <tr>\n      <th>1895</th>\n      <td>Eswatini</td>\n      <td>748</td>\n      <td>2015</td>\n      <td>Life expectancy at birth for both sexes (years)</td>\n      <td>50.6660</td>\n    </tr>\n    <tr>\n      <th>1190</th>\n      <td>Burundi</td>\n      <td>108</td>\n      <td>2015</td>\n      <td>Life expectancy at birth for both sexes (years)</td>\n      <td>58.9170</td>\n    </tr>\n    <tr>\n      <th>3378</th>\n      <td>New Zealand</td>\n      <td>554</td>\n      <td>2015</td>\n      <td>Life expectancy at birth for both sexes (years)</td>\n      <td>81.3210</td>\n    </tr>\n  </tbody>\n</table>\n</div>",
                        "text/plain": "                        location  location_id  year  \\\n1790                       Egypt          818  2015   \n2720                  Kyrgyzstan          417  2015   \n4869  Venezuela (Boliv. Rep. of)          862  2015   \n831                      Bahamas           44  2015   \n624                      Algeria           12  2015   \n507    Australia and New Zealand           53  2015   \n915                      Belarus          112  2015   \n1895                    Eswatini          748  2015   \n1190                     Burundi          108  2015   \n3378                 New Zealand          554  2015   \n\n                                               series    value  \n1790  Life expectancy at birth for both sexes (years)  70.8340  \n2720  Life expectancy at birth for both sexes (years)  70.2720  \n4869  Life expectancy at birth for both sexes (years)  73.0690  \n831   Life expectancy at birth for both sexes (years)  72.4660  \n624   Life expectancy at birth for both sexes (years)  75.5130  \n507   Life expectancy at birth for both sexes (years)  82.1891  \n915   Life expectancy at birth for both sexes (years)  72.4460  \n1895  Life expectancy at birth for both sexes (years)  50.6660  \n1190  Life expectancy at birth for both sexes (years)  58.9170  \n3378  Life expectancy at birth for both sexes (years)  81.3210  "
                    },
                    "execution_count": 29,
                    "metadata": {},
                    "output_type": "execute_result"
                }
            ],
            "source": "df_2015_life.sample(10)"
        },
        {
            "cell_type": "code",
            "execution_count": 32,
            "metadata": {},
            "outputs": [
                {
                    "data": {
                        "text/plain": "count    232.000000\nmean      71.290533\nstd        8.197801\nmin       48.153000\n25%       66.016750\n50%       73.068000\n75%       77.209700\nmax       83.404000\nName: value, dtype: float64"
                    },
                    "execution_count": 32,
                    "metadata": {},
                    "output_type": "execute_result"
                }
            ],
            "source": "df_2015_life['value'].describe()"
        },
        {
            "cell_type": "code",
            "execution_count": 34,
            "metadata": {},
            "outputs": [
                {
                    "data": {
                        "image/png": "[encoded data removed]",
                        "text/plain": "<Figure size 432x288 with 1 Axes>"
                    },
                    "metadata": {
                        "needs_background": "light"
                    },
                    "output_type": "display_data"
                }
            ],
            "source": "import matplotlib.pyplot as plt\nimport numpy as np\n%matplotlib inline\n\n\ndf_2015_life.boxplot(column='value', by='year')\nplt.show()"
        },
        {
            "cell_type": "code",
            "execution_count": 36,
            "metadata": {},
            "outputs": [
                {
                    "data": {
                        "text/html": "<div>\n<style scoped>\n    .dataframe tbody tr th:only-of-type {\n        vertical-align: middle;\n    }\n\n    .dataframe tbody tr th {\n        vertical-align: top;\n    }\n\n    .dataframe thead th {\n        text-align: right;\n    }\n</style>\n<table border=\"1\" class=\"dataframe\">\n  <thead>\n    <tr style=\"text-align: right;\">\n      <th></th>\n      <th>location</th>\n      <th>location_id</th>\n      <th>year</th>\n      <th>series</th>\n      <th>value</th>\n    </tr>\n  </thead>\n  <tbody>\n    <tr>\n      <th>2839</th>\n      <td>Libya</td>\n      <td>434</td>\n      <td>2010</td>\n      <td>Life expectancy at birth for both sexes (years)</td>\n      <td>72.335</td>\n    </tr>\n    <tr>\n      <th>978</th>\n      <td>Benin</td>\n      <td>204</td>\n      <td>2015</td>\n      <td>Life expectancy at birth for both sexes (years)</td>\n      <td>59.931</td>\n    </tr>\n    <tr>\n      <th>2894</th>\n      <td>Luxembourg</td>\n      <td>442</td>\n      <td>2015</td>\n      <td>Life expectancy at birth for both sexes (years)</td>\n      <td>81.145</td>\n    </tr>\n    <tr>\n      <th>747</th>\n      <td>Aruba</td>\n      <td>533</td>\n      <td>2015</td>\n      <td>Life expectancy at birth for both sexes (years)</td>\n      <td>75.369</td>\n    </tr>\n    <tr>\n      <th>3510</th>\n      <td>Oman</td>\n      <td>512</td>\n      <td>2015</td>\n      <td>Life expectancy at birth for both sexes (years)</td>\n      <td>76.220</td>\n    </tr>\n  </tbody>\n</table>\n</div>",
                        "text/plain": "        location  location_id  year  \\\n2839       Libya          434  2010   \n978        Benin          204  2015   \n2894  Luxembourg          442  2015   \n747        Aruba          533  2015   \n3510        Oman          512  2015   \n\n                                               series   value  \n2839  Life expectancy at birth for both sexes (years)  72.335  \n978   Life expectancy at birth for both sexes (years)  59.931  \n2894  Life expectancy at birth for both sexes (years)  81.145  \n747   Life expectancy at birth for both sexes (years)  75.369  \n3510  Life expectancy at birth for both sexes (years)  76.220  "
                    },
                    "execution_count": 36,
                    "metadata": {},
                    "output_type": "execute_result"
                }
            ],
            "source": "df_life = df[df.series == \"Life expectancy at birth for both sexes (years)\"]\ndf_life.head(5)\n"
        },
        {
            "cell_type": "markdown",
            "metadata": {},
            "source": "Goal: to make 3 box plots next to each other by year for life expectancy"
        },
        {
            "cell_type": "code",
            "execution_count": 38,
            "metadata": {},
            "outputs": [
                {
                    "data": {
                        "text/html": "<div>\n<style scoped>\n    .dataframe tbody tr th:only-of-type {\n        vertical-align: middle;\n    }\n\n    .dataframe tbody tr th {\n        vertical-align: top;\n    }\n\n    .dataframe thead th {\n        text-align: right;\n    }\n</style>\n<table border=\"1\" class=\"dataframe\">\n  <thead>\n    <tr style=\"text-align: right;\">\n      <th></th>\n      <th>location</th>\n      <th>location_id</th>\n      <th>year</th>\n      <th>series</th>\n      <th>value</th>\n    </tr>\n  </thead>\n  <tbody>\n    <tr>\n      <th>694</th>\n      <td>Argentina</td>\n      <td>32</td>\n      <td>2005</td>\n      <td>Life expectancy at birth for both sexes (years)</td>\n      <td>74.0180</td>\n    </tr>\n    <tr>\n      <th>782</th>\n      <td>Austria</td>\n      <td>40</td>\n      <td>2010</td>\n      <td>Life expectancy at birth for both sexes (years)</td>\n      <td>80.1300</td>\n    </tr>\n    <tr>\n      <th>346</th>\n      <td>Southern Asia</td>\n      <td>34</td>\n      <td>2005</td>\n      <td>Life expectancy at birth for both sexes (years)</td>\n      <td>63.9448</td>\n    </tr>\n    <tr>\n      <th>3378</th>\n      <td>New Zealand</td>\n      <td>554</td>\n      <td>2015</td>\n      <td>Life expectancy at birth for both sexes (years)</td>\n      <td>81.3210</td>\n    </tr>\n    <tr>\n      <th>2322</th>\n      <td>Haiti</td>\n      <td>332</td>\n      <td>2005</td>\n      <td>Life expectancy at birth for both sexes (years)</td>\n      <td>57.7440</td>\n    </tr>\n  </tbody>\n</table>\n</div>",
                        "text/plain": "           location  location_id  year  \\\n694       Argentina           32  2005   \n782         Austria           40  2010   \n346   Southern Asia           34  2005   \n3378    New Zealand          554  2015   \n2322          Haiti          332  2005   \n\n                                               series    value  \n694   Life expectancy at birth for both sexes (years)  74.0180  \n782   Life expectancy at birth for both sexes (years)  80.1300  \n346   Life expectancy at birth for both sexes (years)  63.9448  \n3378  Life expectancy at birth for both sexes (years)  81.3210  \n2322  Life expectancy at birth for both sexes (years)  57.7440  "
                    },
                    "execution_count": 38,
                    "metadata": {},
                    "output_type": "execute_result"
                }
            ],
            "source": "df_life.sample(5)\n"
        },
        {
            "cell_type": "code",
            "execution_count": 39,
            "metadata": {},
            "outputs": [
                {
                    "data": {
                        "text/plain": "(705, 5)"
                    },
                    "execution_count": 39,
                    "metadata": {},
                    "output_type": "execute_result"
                }
            ],
            "source": "df_life.shape"
        },
        {
            "cell_type": "code",
            "execution_count": 42,
            "metadata": {},
            "outputs": [
                {
                    "data": {
                        "text/html": "<div>\n<style scoped>\n    .dataframe tbody tr th:only-of-type {\n        vertical-align: middle;\n    }\n\n    .dataframe tbody tr th {\n        vertical-align: top;\n    }\n\n    .dataframe thead th {\n        text-align: right;\n    }\n</style>\n<table border=\"1\" class=\"dataframe\">\n  <thead>\n    <tr style=\"text-align: right;\">\n      <th></th>\n      <th>location</th>\n      <th>location_id</th>\n      <th>year</th>\n      <th>series</th>\n      <th>value</th>\n    </tr>\n  </thead>\n  <tbody>\n    <tr>\n      <th>4</th>\n      <td>Total, all countries or areas</td>\n      <td>1</td>\n      <td>2005</td>\n      <td>Life expectancy at birth for both sexes (years)</td>\n      <td>67.0455</td>\n    </tr>\n    <tr>\n      <th>11</th>\n      <td>Total, all countries or areas</td>\n      <td>1</td>\n      <td>2010</td>\n      <td>Life expectancy at birth for both sexes (years)</td>\n      <td>68.9190</td>\n    </tr>\n    <tr>\n      <th>18</th>\n      <td>Total, all countries or areas</td>\n      <td>1</td>\n      <td>2015</td>\n      <td>Life expectancy at birth for both sexes (years)</td>\n      <td>70.8763</td>\n    </tr>\n    <tr>\n      <th>24</th>\n      <td>Africa</td>\n      <td>2</td>\n      <td>2005</td>\n      <td>Life expectancy at birth for both sexes (years)</td>\n      <td>53.5269</td>\n    </tr>\n    <tr>\n      <th>30</th>\n      <td>Africa</td>\n      <td>2</td>\n      <td>2010</td>\n      <td>Life expectancy at birth for both sexes (years)</td>\n      <td>56.7825</td>\n    </tr>\n  </tbody>\n</table>\n</div>",
                        "text/plain": "                         location  location_id  year  \\\n4   Total, all countries or areas            1  2005   \n11  Total, all countries or areas            1  2010   \n18  Total, all countries or areas            1  2015   \n24                         Africa            2  2005   \n30                         Africa            2  2010   \n\n                                             series    value  \n4   Life expectancy at birth for both sexes (years)  67.0455  \n11  Life expectancy at birth for both sexes (years)  68.9190  \n18  Life expectancy at birth for both sexes (years)  70.8763  \n24  Life expectancy at birth for both sexes (years)  53.5269  \n30  Life expectancy at birth for both sexes (years)  56.7825  "
                    },
                    "execution_count": 42,
                    "metadata": {},
                    "output_type": "execute_result"
                }
            ],
            "source": "df_life = df_life[(df_life.year == 2005) | (df_life.year == 2010) | (df_life.year == 2015)]\ndf_life.head()"
        },
        {
            "cell_type": "code",
            "execution_count": 43,
            "metadata": {},
            "outputs": [
                {
                    "data": {
                        "text/plain": "(696, 5)"
                    },
                    "execution_count": 43,
                    "metadata": {},
                    "output_type": "execute_result"
                }
            ],
            "source": "df_life.shape"
        },
        {
            "cell_type": "code",
            "execution_count": 44,
            "metadata": {},
            "outputs": [
                {
                    "data": {
                        "image/png": "[encoded data removed]",
                        "text/plain": "<Figure size 432x288 with 1 Axes>"
                    },
                    "metadata": {
                        "needs_background": "light"
                    },
                    "output_type": "display_data"
                }
            ],
            "source": "df_life.boxplot(column='value', by='year')\nplt.show()"
        },
        {
            "cell_type": "markdown",
            "metadata": {},
            "source": "next I want a histogram of frequency of countries with life exp (2015) results from >55, 55-60, 60-65, 65-70, 70-75, 75-80, >80"
        },
        {
            "cell_type": "code",
            "execution_count": 46,
            "metadata": {},
            "outputs": [
                {
                    "data": {
                        "text/html": "<div>\n<style scoped>\n    .dataframe tbody tr th:only-of-type {\n        vertical-align: middle;\n    }\n\n    .dataframe tbody tr th {\n        vertical-align: top;\n    }\n\n    .dataframe thead th {\n        text-align: right;\n    }\n</style>\n<table border=\"1\" class=\"dataframe\">\n  <thead>\n    <tr style=\"text-align: right;\">\n      <th></th>\n      <th>location</th>\n      <th>location_id</th>\n      <th>year</th>\n      <th>series</th>\n      <th>value</th>\n    </tr>\n  </thead>\n  <tbody>\n    <tr>\n      <th>4869</th>\n      <td>Venezuela (Boliv. Rep. of)</td>\n      <td>862</td>\n      <td>2015</td>\n      <td>Life expectancy at birth for both sexes (years)</td>\n      <td>73.0690</td>\n    </tr>\n    <tr>\n      <th>543</th>\n      <td>Micronesia</td>\n      <td>57</td>\n      <td>2015</td>\n      <td>Life expectancy at birth for both sexes (years)</td>\n      <td>71.8177</td>\n    </tr>\n    <tr>\n      <th>4177</th>\n      <td>Solomon Islands</td>\n      <td>90</td>\n      <td>2015</td>\n      <td>Life expectancy at birth for both sexes (years)</td>\n      <td>71.4300</td>\n    </tr>\n    <tr>\n      <th>4513</th>\n      <td>Togo</td>\n      <td>768</td>\n      <td>2015</td>\n      <td>Life expectancy at birth for both sexes (years)</td>\n      <td>59.0760</td>\n    </tr>\n    <tr>\n      <th>4918</th>\n      <td>Western Sahara</td>\n      <td>732</td>\n      <td>2015</td>\n      <td>Life expectancy at birth for both sexes (years)</td>\n      <td>68.4080</td>\n    </tr>\n    <tr>\n      <th>1679</th>\n      <td>Dem. Rep. of the Congo</td>\n      <td>180</td>\n      <td>2015</td>\n      <td>Life expectancy at birth for both sexes (years)</td>\n      <td>58.1010</td>\n    </tr>\n    <tr>\n      <th>1460</th>\n      <td>Comoros</td>\n      <td>174</td>\n      <td>2015</td>\n      <td>Life expectancy at birth for both sexes (years)</td>\n      <td>62.8250</td>\n    </tr>\n    <tr>\n      <th>3069</th>\n      <td>Mauritania</td>\n      <td>478</td>\n      <td>2015</td>\n      <td>Life expectancy at birth for both sexes (years)</td>\n      <td>63.2140</td>\n    </tr>\n    <tr>\n      <th>3833</th>\n      <td>Romania</td>\n      <td>642</td>\n      <td>2015</td>\n      <td>Life expectancy at birth for both sexes (years)</td>\n      <td>74.9430</td>\n    </tr>\n    <tr>\n      <th>4848</th>\n      <td>Vanuatu</td>\n      <td>548</td>\n      <td>2015</td>\n      <td>Life expectancy at birth for both sexes (years)</td>\n      <td>69.4900</td>\n    </tr>\n  </tbody>\n</table>\n</div>",
                        "text/plain": "                        location  location_id  year  \\\n4869  Venezuela (Boliv. Rep. of)          862  2015   \n543                   Micronesia           57  2015   \n4177             Solomon Islands           90  2015   \n4513                        Togo          768  2015   \n4918              Western Sahara          732  2015   \n1679      Dem. Rep. of the Congo          180  2015   \n1460                     Comoros          174  2015   \n3069                  Mauritania          478  2015   \n3833                     Romania          642  2015   \n4848                     Vanuatu          548  2015   \n\n                                               series    value  \n4869  Life expectancy at birth for both sexes (years)  73.0690  \n543   Life expectancy at birth for both sexes (years)  71.8177  \n4177  Life expectancy at birth for both sexes (years)  71.4300  \n4513  Life expectancy at birth for both sexes (years)  59.0760  \n4918  Life expectancy at birth for both sexes (years)  68.4080  \n1679  Life expectancy at birth for both sexes (years)  58.1010  \n1460  Life expectancy at birth for both sexes (years)  62.8250  \n3069  Life expectancy at birth for both sexes (years)  63.2140  \n3833  Life expectancy at birth for both sexes (years)  74.9430  \n4848  Life expectancy at birth for both sexes (years)  69.4900  "
                    },
                    "execution_count": 46,
                    "metadata": {},
                    "output_type": "execute_result"
                }
            ],
            "source": "df_life_2015 = df_life[df_life.year == 2015]\ndf_life_2015.sample(10)"
        },
        {
            "cell_type": "code",
            "execution_count": 47,
            "metadata": {},
            "outputs": [
                {
                    "data": {
                        "text/plain": "(232, 5)"
                    },
                    "execution_count": 47,
                    "metadata": {},
                    "output_type": "execute_result"
                }
            ],
            "source": "df_life_2015.shape"
        },
        {
            "cell_type": "code",
            "execution_count": null,
            "metadata": {},
            "outputs": [],
            "source": "df_life_2015.apply = df_life[(df_life.year == 2005) | (df_life.year == 2010) | (df_life.year == 2015)]"
        },
        {
            "cell_type": "code",
            "execution_count": null,
            "metadata": {},
            "outputs": [],
            "source": "def set_value(row_number, assigned_value): \n    return assigned_value[row_number]\n\nfor row in df.values:\n    \n\nevent_dictionary ={'<55' : 1500, 'Poetry' : 800, 'Comedy' : 1200}>55, 55-60, 60-65, 65-70, 70-75, 75-80, >80\ndf['range'] = df['value'].apply(set_value, args =(event_dictionary, ))"
        },
        {
            "cell_type": "code",
            "execution_count": null,
            "metadata": {},
            "outputs": [],
            "source": ""
        }
    ],
    "metadata": {
        "kernelspec": {
            "display_name": "Python 3.6",
            "language": "python",
            "name": "python3"
        },
        "language_info": {
            "codemirror_mode": {
                "name": "ipython",
                "version": 3
            },
            "file_extension": ".py",
            "mimetype": "text/x-python",
            "name": "python",
            "nbconvert_exporter": "python",
            "pygments_lexer": "ipython3",
            "version": "3.6.9"
        }
    },
    "nbformat": 4,
    "nbformat_minor": 1
}