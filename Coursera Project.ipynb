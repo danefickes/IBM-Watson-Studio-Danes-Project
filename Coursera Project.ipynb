{
    "cells": [
        {
            "cell_type": "markdown",
            "metadata": {
                "collapsed": true
            },
            "source": "# My Jupyter Notebook on IBW Watson Studio"
        },
        {
            "cell_type": "markdown",
            "metadata": {},
            "source": "**Dane Fickes**\nData Scientist"
        },
        {
            "cell_type": "markdown",
            "metadata": {},
            "source": "*I am interested in Data Science because it reveals the truth behind questions in an objective, clear way. It separates the fact from the fiction, produces useful insights, and can be applied to any field or setting.*"
        },
        {
            "cell_type": "markdown",
            "metadata": {},
            "source": "### This code tells you your future if you follow your passion"
        },
        {
            "cell_type": "code",
            "execution_count": 4,
            "metadata": {},
            "outputs": [
                {
                    "name": "stdout",
                    "output_type": "stream",
                    "text": "Who are you? (name) Dane\nWhat do you want to be? (career) Data scientist\nDane will one day be a Data scientist\n"
                }
            ],
            "source": "name = input(\"Who are you? (name) \")\ncareer = input(\"What do you want to be? (career) \")\nanswer = name + \" will one day be a \" + career\nprint(answer)"
        },
        {
            "cell_type": "markdown",
            "metadata": {},
            "source": "1. This tool is great for staying focused on your passion\n2. Do not lose sight of your goals\n3. ~~You can only succeed if you have good genetics~~\n\n![Catspirations](https://i.pinimg.com/originals/74/0f/8d/740f8d38239446e3d4d2326cd6e8c136.jpg \"Catspirations\")"
        },
        {
            "cell_type": "code",
            "execution_count": null,
            "metadata": {},
            "outputs": [],
            "source": ""
        }
    ],
    "metadata": {
        "kernelspec": {
            "display_name": "Python 3.6",
            "language": "python",
            "name": "python3"
        },
        "language_info": {
            "codemirror_mode": {
                "name": "ipython",
                "version": 3
            },
            "file_extension": ".py",
            "mimetype": "text/x-python",
            "name": "python",
            "nbconvert_exporter": "python",
            "pygments_lexer": "ipython3",
            "version": "3.6.9"
        }
    },
    "nbformat": 4,
    "nbformat_minor": 1
}